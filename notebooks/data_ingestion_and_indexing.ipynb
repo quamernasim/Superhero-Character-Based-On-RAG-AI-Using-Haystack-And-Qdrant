{
 "cells": [
  {
   "cell_type": "code",
   "execution_count": 1,
   "metadata": {},
   "outputs": [],
   "source": [
    "import yaml\n",
    "import os\n",
    "import re\n",
    "\n",
    "import pymupdf\n",
    "\n",
    "from tqdm.notebook import tqdm\n",
    "from os.path import join as pjoin"
   ]
  },
  {
   "cell_type": "code",
   "execution_count": 2,
   "metadata": {},
   "outputs": [],
   "source": [
    "def load_all_dialogues(movies_available, superhero_dialogue_path, dialogues_joiner):\n",
    "    dialogues = []\n",
    "    movies_as_meta_data = []\n",
    "    for movie in movies_available:\n",
    "        with open(pjoin(superhero_dialogue_path, movie)) as file:\n",
    "            data = file.read()\n",
    "\n",
    "        temp = data.split(dialogues_joiner)\n",
    "        movies_as_meta_data.extend([movie]*len(temp))\n",
    "        dialogues.extend(temp)\n",
    "\n",
    "    return dialogues, movies_as_meta_data"
   ]
  },
  {
   "cell_type": "code",
   "execution_count": 3,
   "metadata": {},
   "outputs": [],
   "source": [
    "from haystack_integrations.components.embedders.fastembed import FastembedDocumentEmbedder\n",
    "\n",
    "def load_embedding_model(embedding_model):\n",
    "    document_embedder = FastembedDocumentEmbedder(model = embedding_model)\n",
    "    document_embedder.warm_up()\n",
    "    return document_embedder\n",
    "\n",
    "from haystack import Document\n",
    "from haystack_integrations.document_stores.qdrant import QdrantDocumentStore\n",
    "\n",
    "def index_documents(superhero, dialogues, movies_as_meta_data, vector_store_path, document_embedder, embed_dim):\n",
    "\n",
    "    documents = [\n",
    "        Document(\n",
    "            content = dialogue,\n",
    "            meta = {\n",
    "                'name': superhero,\n",
    "                'movie': movie[:-4]\n",
    "            }\n",
    "        )\n",
    "        for dialogue, movie in zip(dialogues, movies_as_meta_data) if len(dialogue)<2000\n",
    "    ]\n",
    "\n",
    "    document_store = QdrantDocumentStore(\n",
    "        path= vector_store_path,\n",
    "        index=superhero,\n",
    "        embedding_dim=embed_dim,\n",
    "    )\n",
    "\n",
    "    documents_with_embeddings = document_embedder.run(documents)[\"documents\"]\n",
    "    document_store.write_documents(documents_with_embeddings)\n",
    "\n",
    "    return document_store"
   ]
  },
  {
   "cell_type": "code",
   "execution_count": 4,
   "metadata": {},
   "outputs": [],
   "source": [
    "root = '..'\n",
    "data_folder = 'data'\n",
    "script_folder = 'scripts'\n",
    "dialogue_folder = 'dialogues'\n",
    "config_file = 'config.yaml'\n",
    "embed_dim = 384\n",
    "vector_store_name = 'QDRANT_VECTOR_DATABASE'\n",
    "vector_store_path = pjoin(root, vector_store_name)\n",
    "embedding_model = 'BAAI/bge-small-en-v1.5'"
   ]
  },
  {
   "cell_type": "code",
   "execution_count": 5,
   "metadata": {},
   "outputs": [],
   "source": [
    "with open(pjoin(root, config_file), 'r') as f:\n",
    "    config = yaml.safe_load(f)\n",
    "\n",
    "dialogues_joiner = config['DIALOGUES_JOINER']\n",
    "list_of_superheroes = config['LIST_OF_SUPERHEROES']"
   ]
  },
  {
   "cell_type": "code",
   "execution_count": 6,
   "metadata": {},
   "outputs": [
    {
     "name": "stdout",
     "output_type": "stream",
     "text": [
      "Generation vector-index for Batman\n"
     ]
    },
    {
     "data": {
      "application/vnd.jupyter.widget-view+json": {
       "model_id": "af46f3ff7843468ea34bf04c172537dd",
       "version_major": 2,
       "version_minor": 0
      },
      "text/plain": [
       "Fetching 5 files:   0%|          | 0/5 [00:00<?, ?it/s]"
      ]
     },
     "metadata": {},
     "output_type": "display_data"
    },
    {
     "name": "stderr",
     "output_type": "stream",
     "text": [
      "Calculating embeddings: 100%|██████████| 1009/1009 [00:48<00:00, 20.98it/s]\n",
      "1100it [00:00, 1903.71it/s]                          \n"
     ]
    },
    {
     "name": "stdout",
     "output_type": "stream",
     "text": [
      "Generation vector-index for Superman\n"
     ]
    },
    {
     "name": "stderr",
     "output_type": "stream",
     "text": [
      "Calculating embeddings: 100%|██████████| 374/374 [00:16<00:00, 22.81it/s]\n",
      "400it [00:00, 1832.21it/s]                         \n"
     ]
    },
    {
     "name": "stdout",
     "output_type": "stream",
     "text": [
      "Generation vector-index for Wonder Woman\n"
     ]
    },
    {
     "name": "stderr",
     "output_type": "stream",
     "text": [
      "Calculating embeddings: 100%|██████████| 269/269 [00:15<00:00, 17.79it/s]\n",
      "300it [00:00, 1878.17it/s]                         \n"
     ]
    },
    {
     "name": "stdout",
     "output_type": "stream",
     "text": [
      "Generation vector-index for Spiderman\n"
     ]
    },
    {
     "name": "stderr",
     "output_type": "stream",
     "text": [
      "Calculating embeddings: 100%|██████████| 593/593 [00:24<00:00, 23.75it/s]\n",
      "600it [00:00, 1727.78it/s]                         \n"
     ]
    },
    {
     "name": "stdout",
     "output_type": "stream",
     "text": [
      "Generation vector-index for Ironman\n"
     ]
    },
    {
     "name": "stderr",
     "output_type": "stream",
     "text": [
      "Calculating embeddings: 100%|██████████| 873/873 [00:35<00:00, 24.34it/s]\n",
      "900it [00:00, 1757.22it/s]                         \n"
     ]
    },
    {
     "name": "stdout",
     "output_type": "stream",
     "text": [
      "Generation vector-index for Captain America\n"
     ]
    },
    {
     "name": "stderr",
     "output_type": "stream",
     "text": [
      "Calculating embeddings: 100%|██████████| 693/693 [00:26<00:00, 26.57it/s]\n",
      "700it [00:00, 1823.11it/s]                         \n"
     ]
    },
    {
     "name": "stdout",
     "output_type": "stream",
     "text": [
      "Generation vector-index for Black Widow\n"
     ]
    },
    {
     "name": "stderr",
     "output_type": "stream",
     "text": [
      "Calculating embeddings: 100%|██████████| 208/208 [00:09<00:00, 21.98it/s]\n",
      "300it [00:00, 2515.09it/s]                         \n"
     ]
    },
    {
     "name": "stdout",
     "output_type": "stream",
     "text": [
      "Generation vector-index for Hulk\n"
     ]
    },
    {
     "name": "stderr",
     "output_type": "stream",
     "text": [
      "Calculating embeddings: 100%|██████████| 256/256 [00:07<00:00, 32.57it/s]\n",
      "300it [00:00, 2024.07it/s]                         \n"
     ]
    },
    {
     "name": "stdout",
     "output_type": "stream",
     "text": [
      "Generation vector-index for Thor\n"
     ]
    },
    {
     "name": "stderr",
     "output_type": "stream",
     "text": [
      "Calculating embeddings: 100%|██████████| 754/754 [00:41<00:00, 18.33it/s]\n",
      "800it [00:00, 1856.60it/s]                         \n"
     ]
    },
    {
     "name": "stdout",
     "output_type": "stream",
     "text": [
      "Generation vector-index for Deadpool\n"
     ]
    },
    {
     "name": "stderr",
     "output_type": "stream",
     "text": [
      "Calculating embeddings: 100%|██████████| 400/400 [00:22<00:00, 17.65it/s]\n",
      "100%|██████████| 400/400 [00:00<00:00, 1773.46it/s]\n"
     ]
    },
    {
     "name": "stdout",
     "output_type": "stream",
     "text": [
      "Generation vector-index for Star Lord\n"
     ]
    },
    {
     "name": "stderr",
     "output_type": "stream",
     "text": [
      "Calculating embeddings: 100%|██████████| 417/417 [00:22<00:00, 18.53it/s]\n",
      "500it [00:00, 2118.59it/s]                         \n"
     ]
    },
    {
     "name": "stdout",
     "output_type": "stream",
     "text": [
      "Generation vector-index for Thanos\n"
     ]
    },
    {
     "name": "stderr",
     "output_type": "stream",
     "text": [
      "Calculating embeddings: 100%|██████████| 114/114 [00:03<00:00, 29.60it/s]\n",
      "200it [00:00, 3079.07it/s]             \n"
     ]
    },
    {
     "name": "stdout",
     "output_type": "stream",
     "text": [
      "Generation vector-index for Groot\n"
     ]
    },
    {
     "name": "stderr",
     "output_type": "stream",
     "text": [
      "Calculating embeddings: 100%|██████████| 32/32 [00:02<00:00, 15.98it/s]\n",
      "100it [00:00, 5960.78it/s]            \n"
     ]
    },
    {
     "name": "stdout",
     "output_type": "stream",
     "text": [
      "Generation vector-index for Rocket\n"
     ]
    },
    {
     "name": "stderr",
     "output_type": "stream",
     "text": [
      "Calculating embeddings: 100%|██████████| 264/264 [00:16<00:00, 15.93it/s]\n",
      "300it [00:00, 1864.10it/s]                         \n"
     ]
    },
    {
     "name": "stdout",
     "output_type": "stream",
     "text": [
      "Generation vector-index for Doctor Strange\n"
     ]
    },
    {
     "name": "stderr",
     "output_type": "stream",
     "text": [
      "Calculating embeddings: 100%|██████████| 105/105 [00:03<00:00, 28.62it/s]\n",
      "200it [00:00, 3356.01it/s]             \n"
     ]
    },
    {
     "name": "stdout",
     "output_type": "stream",
     "text": [
      "Generation vector-index for Drax\n"
     ]
    },
    {
     "name": "stderr",
     "output_type": "stream",
     "text": [
      "Calculating embeddings: 100%|██████████| 148/148 [00:09<00:00, 14.85it/s]\n",
      "200it [00:00, 2358.30it/s]             \n"
     ]
    },
    {
     "name": "stdout",
     "output_type": "stream",
     "text": [
      "Generation vector-index for Vision\n"
     ]
    },
    {
     "name": "stderr",
     "output_type": "stream",
     "text": [
      "Calculating embeddings: 100%|██████████| 3/3 [00:00<00:00, 48.95it/s]\n",
      "100it [00:00, 51596.80it/s]          \n"
     ]
    },
    {
     "name": "stdout",
     "output_type": "stream",
     "text": [
      "Generation vector-index for Jarvis\n"
     ]
    },
    {
     "name": "stderr",
     "output_type": "stream",
     "text": [
      "Calculating embeddings: 100%|██████████| 60/60 [00:04<00:00, 13.43it/s]\n",
      "100it [00:00, 2883.24it/s]            \n"
     ]
    }
   ],
   "source": [
    "for superhero in list_of_superheroes:\n",
    "    print(f'Generation vector-index for {superhero}')\n",
    "    movies_available = os.listdir(pjoin(root, data_folder, dialogue_folder, superhero))\n",
    "    superhero_dialogue_path = pjoin(root, data_folder, dialogue_folder, superhero)\n",
    "\n",
    "    dialogues, movies_as_meta_data = load_all_dialogues(movies_available, superhero_dialogue_path, dialogues_joiner)\n",
    "    document_embedder = load_embedding_model(embedding_model)\n",
    "    index_documents(superhero, dialogues, movies_as_meta_data, vector_store_path, document_embedder, embed_dim)"
   ]
  },
  {
   "cell_type": "code",
   "execution_count": null,
   "metadata": {},
   "outputs": [],
   "source": []
  },
  {
   "cell_type": "code",
   "execution_count": null,
   "metadata": {},
   "outputs": [],
   "source": []
  }
 ],
 "metadata": {
  "kernelspec": {
   "display_name": "base",
   "language": "python",
   "name": "python3"
  },
  "language_info": {
   "codemirror_mode": {
    "name": "ipython",
    "version": 3
   },
   "file_extension": ".py",
   "mimetype": "text/x-python",
   "name": "python",
   "nbconvert_exporter": "python",
   "pygments_lexer": "ipython3",
   "version": "3.12.2"
  }
 },
 "nbformat": 4,
 "nbformat_minor": 2
}
