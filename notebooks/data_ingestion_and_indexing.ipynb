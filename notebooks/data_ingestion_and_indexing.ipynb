{
 "cells": [
  {
   "cell_type": "code",
   "execution_count": 9,
   "metadata": {},
   "outputs": [],
   "source": [
    "LIST_OF_SUPERHEROES = [\n",
    "    \"Batman\",\n",
    "    \"Superman\",\n",
    "    \"Wonder Woman\",\n",
    "    \"Spiderman\",\n",
    "    \"Ironman\",\n",
    "    \"Captain America\",\n",
    "    \"Black Widow\",\n",
    "    \"Hulk\",\n",
    "    \"Thor\",\n",
    "    \"Deadpool\",\n",
    "    \"Star Lord\",\n",
    "    \"Thanos\",\n",
    "    \"Groot\",\n",
    "    \"Rocket\",\n",
    "    \"Doctor Strange\",\n",
    "    \"Drax\",\n",
    "    \"Vision\",\n",
    "    \"Jarvis\",\n",
    "]\n",
    "\n",
    "SUPERHERO_SYNONYMS = {\n",
    "    \"Batman\": [\"Bruce Wayne\"],\n",
    "    \"Superman\": [\"Clark Kent\"],\n",
    "    \"Wonder Woman\": [\"Diana Prince\"],\n",
    "    \"Spiderman\": [\"Peter Parker\"],\n",
    "    \"Ironman\": [\"Tony Stark\"],\n",
    "    \"Captain America\": [\"Steve Rogers\"],\n",
    "    \"Black Widow\": [\"Natasha Romanoff\"],\n",
    "    \"Hulk\": [\"Bruce Banner\"],\n",
    "    \"Thor\": [\"Thor Odinson\"],\n",
    "    \"Deadpool\": [\"Wade Wilson\"],\n",
    "    \"Star Lord\": [\"Peter Quill\"],\n",
    "    \"Thanos\": [\"Thanos\"],\n",
    "    \"Groot\": [\"Groot\"],\n",
    "    \"Rocket\": [\"Rocket\"],\n",
    "    \"Doctor Strange\": [\"Stephen Strange\"],\n",
    "    \"Drax\": [\"Drax\"],\n",
    "    \"Vision\": [\"Vision\"],\n",
    "    \"Jarvis\": [\"Jarvis\"],\n",
    "}"
   ]
  },
  {
   "cell_type": "code",
   "execution_count": 4,
   "metadata": {},
   "outputs": [],
   "source": [
    "from os.path import join as pjoin"
   ]
  },
  {
   "cell_type": "code",
   "execution_count": 5,
   "metadata": {},
   "outputs": [],
   "source": [
    "root = '/home/quamer23nasim38/Superhero-Character-Based-On-RAG-AI-Using-Haystack-And-Qdrant'\n",
    "data_folder = 'data'"
   ]
  },
  {
   "cell_type": "code",
   "execution_count": 6,
   "metadata": {},
   "outputs": [],
   "source": [
    "import os"
   ]
  },
  {
   "cell_type": "code",
   "execution_count": 7,
   "metadata": {},
   "outputs": [],
   "source": [
    "all_movie_scripts = os.listdir(pjoin(root, data_folder))"
   ]
  },
  {
   "cell_type": "code",
   "execution_count": 8,
   "metadata": {},
   "outputs": [
    {
     "data": {
      "text/plain": [
       "['spider-man-no-way-home-2021.pdf',\n",
       " 'avengers infinity war.pdf',\n",
       " 'thor-ragnorak-2017.pdf',\n",
       " 'iron-man-2008.pdf',\n",
       " 'Captain America: Civil War.pdf',\n",
       " 'Man of Steel.pdf',\n",
       " 'the-avengers-2012.pdf',\n",
       " 'Avengers: Age of Ultron.txt',\n",
       " 'deadpool-2016.pdf',\n",
       " 'captain america winter solider.pdf',\n",
       " 'Guardians of the Galaxy vol 2.pdf',\n",
       " 'thor-2011.pdf',\n",
       " 'Guardians_of_the_Galaxy_Movie_Transcript.pdf',\n",
       " 'the-dark-knight-2008.pdf',\n",
       " 'avengers-endgame.pdf',\n",
       " 'Batman_VS_Superman.pdf',\n",
       " 'batman-begins-2005.pdf',\n",
       " 'Batman-v-Superman-Dawn-of-Justice.pdf',\n",
       " 'Deadpool 2.txt',\n",
       " 'wonder-woman-2017.pdf',\n",
       " 'the-dark-knight-rises-2012.pdf',\n",
       " 'captain-america-the-first-avenger-20.pdf']"
      ]
     },
     "execution_count": 8,
     "metadata": {},
     "output_type": "execute_result"
    }
   ],
   "source": [
    "for superhero in LIST_OF_SUPERHEROES:\n",
    "    print(f'Processing {superhero}')\n",
    "    superhero_script = []\n",
    "    for script in all_movie_scripts:\n",
    "        "
   ]
  }
 ],
 "metadata": {
  "kernelspec": {
   "display_name": "base",
   "language": "python",
   "name": "python3"
  },
  "language_info": {
   "codemirror_mode": {
    "name": "ipython",
    "version": 3
   },
   "file_extension": ".py",
   "mimetype": "text/x-python",
   "name": "python",
   "nbconvert_exporter": "python",
   "pygments_lexer": "ipython3",
   "version": "3.10.13"
  }
 },
 "nbformat": 4,
 "nbformat_minor": 2
}
